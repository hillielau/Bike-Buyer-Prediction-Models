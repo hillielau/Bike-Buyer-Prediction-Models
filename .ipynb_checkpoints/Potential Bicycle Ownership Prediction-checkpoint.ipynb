{
 "cells": [
  {
   "cell_type": "markdown",
   "metadata": {},
   "source": [
    "# Bike Customer Classification - Comparison on Naive Bayes Classification Vs. Random Forest Models"
   ]
  },
  {
   "cell_type": "markdown",
   "metadata": {},
   "source": [
    "### Related Work and Hypothese Statement"
   ]
  },
  {
   "cell_type": "markdown",
   "metadata": {},
   "source": [
    "#### Previous Research on this Dataset:"
   ]
  },
  {
   "cell_type": "markdown",
   "metadata": {},
   "source": [
    "(1) S. Jaya Prada, A. Geetha Sri, B. Venkateswarlu, Ch. Vineesha and\n",
    "P. Lakshmi Teja, Bike Buyer Prediction, International Journal of Computer\n",
    "Engineering and Technology 11(3), 2020, pp. 45-51.\n",
    "http://www.iaeme.com/IJCET/issues.asp?JType=IJCET&VType=11&IType=3\n",
    "\n",
    "- Reseachers built a simple Random Forest Model on bike buyer prediction and obtain a result of 86.6%, comparing with SVM (86%) Decision Tree models (81%) and\n",
    "- Nevertheless, researches did not modify the parameter/ hyperparameters of the correspondent models."
   ]
  },
  {
   "cell_type": "markdown",
   "metadata": {},
   "source": [
    "#### Demographic Features Influcing on Bicycle Purchase Behaviors"
   ]
  },
  {
   "cell_type": "markdown",
   "metadata": {},
   "source": [
    "1) This paper studies the correlates of bicycle ownership and bicycling frequency with Bivariate and Multivariate Logistic Regression. Both methods suggested these demographic features are correlated with Bicycle Ownership:\n",
    "    James F. Sallis, Terry L. Conway, Lianne I. Dillon, Lawrence D. Frank, Marc A. Adams, Kelli L. Cain, Brian E. Saelens, Environmental and demographic correlates of bicycling, Preventive Medicine, Volume 57, Issue 5,\n",
    "    2013,Pages 456-460, ISSN 0091-7435, https://doi.org/10.1016/j.ypmed.2013.06.014. (http://www.sciencedirect.com/science/article/pii/S0091743513002065)\n",
    "- Region (US region in this paper)\n",
    "- Age (Continous data)\n",
    "- Numer of vehicales per adult\n",
    "- Ethnicity (White Vs. Non-White)\n",
    "- Education (below Cellege, College or above)\n",
    "- Marital Status (Single Vs. Married/ living with a partner)\n",
    "- Sex is regarded as non-correlates in the Bivariate Logistic Regression"
   ]
  },
  {
   "cell_type": "markdown",
   "metadata": {},
   "source": [
    "### Data Pre-Processing"
   ]
  },
  {
   "cell_type": "markdown",
   "metadata": {},
   "source": [
    "- "
   ]
  },
  {
   "cell_type": "markdown",
   "metadata": {},
   "source": [
    "### Benefits of Naives Bayes"
   ]
  },
  {
   "cell_type": "markdown",
   "metadata": {},
   "source": [
    "- Because independent variables are assumed, only the variances of the variables for each class need to be determined and not the entire covariance matrix\n",
    "- it requires a small amount of training data to estimate the parameters\n",
    "- fast and incremental can deal with discrete and continuous attributes, has excellent performance in real-life problems\n",
    "\n",
    "Doreswamy, Hosahalli & K S, Hemanth. (2011). Performance Evaluation of Predictive Classifiers For Knowledge Discovery From Engineering Materials Data Sets. CiiT International Journal Of Artificial Intelligent systems and Machine Learning. 3. 162-168. "
   ]
  },
  {
   "cell_type": "markdown",
   "metadata": {},
   "source": [
    "### Evaluation on the Model/ Model Selection"
   ]
  },
  {
   "cell_type": "markdown",
   "metadata": {},
   "source": [
    "- Time e.g. Fit Model Time, Prediction Time\n",
    "- Loss Function\n",
    "- Precision/ Recall/ ROC Curve/ F1 Score\n",
    "- F1 Preferred\n",
    "        For most buyer propensity models,\n",
    "        accuracy is not the right performance to prioritize because of class imbalance. In this\n",
    "                example, the BikeBuyerWithLocation dataset has only 1,000 customers who bought bikes out of a total of 10,000 customers. So a naïve model that predicts 0 for all prospects will \n",
    "        have an accuracy of 90%, even though it would incorrectly classify all the customers who\n",
    "        actually bought bikes. This is due to the prevalence of one class in the dataset since the\n",
    "        majority of customers did not buy bikes.\n",
    "        The F1 score is the harmonic mean of sensitivity and specificity. A good model that\n",
    "        balances sensitivity and specificity will have a higher F1 score\n",
    "        (Barga, Roger & Fontama, Valentine & Tok, Wee Hyong. (2015). Predictive Analytics with Microsoft Azure Machine Learning. 10.1007/978-1-4842-1200-4.)"
   ]
  },
  {
   "cell_type": "markdown",
   "metadata": {},
   "source": [
    "### Naive Bayes Parameter\n",
    "- Class Priors \n",
    "    (1) 1/No. of Class (uniform distribution)\n",
    "            Unnderstand the influence of imbalance dataset, need to check which prior is truly describing the situation\n",
    "            prior probabilities hardly affect the classification. However, in situations where documents are usually very short and the class distribution is skewed, the prior probabilities may affect the classification negatively\n",
    "            (K.M.Schneider  (2005) Techniques for Improving the Performance of Naive Bayes for Text Classification. In: Gelbukh A. (eds) Computational Linguist\n",
    "            ics and Intelligent Text Processing. CICLing 2005. , vol 3406\n",
    "            https://doi.org/10.1007/978-3-540-30586-6_76)\n",
    "  \n",
    "  (2) Count of Class/ Count of data\n",
    "- Binning of Data e.g. Age, AveMonthSpend, YearlyIncome\n",
    "        We also have argued that when the true\n",
    "        distribution of p(C | Xi), and thus the true decision boundaries for Xi\n",
    "        , are unknown, it is advisable to form as many intervals as constraints on adequate\n",
    "        probability estimation accuracy allow. Consequently it is not appropriate to\n",
    "        fix or minimize the interval number. Instead, discretization techniques that\n",
    "        react more sensitively to training data size can be of greater utility. Another\n",
    "        usual weakness, as a consequence of the first one, is that when the interval size\n",
    "        is sufficiently large, and thus the discretization variance is under control, the\n",
    "        increase of the training data will mainly contribute to increasing discretization\n",
    "        bias. As a result, it is credible that as the amount of data increases, learning\n",
    "        error will also increase\n",
    "        - ESD better reduce classification bias\n",
    "        - . ESD also demonstrates a good control on discretization variance. Especially among smaller datasets where naive-Bayes probability estimation has a higher risk to suffer insufficient training data, ESD usually achieves lower variance than alternative methods\n",
    "    (Yang, Y., Webb, G.I. Discretization for naive-Bayes learning: managing discretization bias and variance. Mach Learn 74, 39–74 (2009). https://doi.org/10.1007/s10994-008-5083-5)\n",
    "\n",
    "\n",
    "- Data Transformation: towards normal distribution?\n",
    "- For Numerical Data: Kenel Vs. Gaussian in model fitting, or any formula that represent the distribution?\n",
    "- Smoothing: +1 (C.D. Manning, P. Raghavan and M. Schütze (2008). Introduction to Information Retrieval. Cambridge University Press, p. 260.)\n",
    "- Parallelize Probability Calculation\n",
    "- Feature selection: PCA? (The performance of Naive Bayes can degrade if the data contains highly correlated features)\n",
    "-  use a search algorithm to explore the combination of the probabilities of different attributes together\n",
    "\n",
    "- Check the balance of train dataset\n",
    "- k-fold cross validation : k=?\n"
   ]
  },
  {
   "cell_type": "markdown",
   "metadata": {},
   "source": [
    "### Correlation in This Dataset"
   ]
  },
  {
   "cell_type": "code",
   "execution_count": 16,
   "metadata": {},
   "outputs": [
    {
     "name": "stdout",
     "output_type": "stream",
     "text": [
      "<class 'pandas.core.frame.DataFrame'>\n",
      "Int64Index: 16400 entries, 0 to 16399\n",
      "Data columns (total 15 columns):\n",
      " #   Column                Non-Null Count  Dtype  \n",
      "---  ------                --------------  -----  \n",
      " 0   City                  16400 non-null  object \n",
      " 1   StateProvinceName     16400 non-null  object \n",
      " 2   CountryRegionName     16400 non-null  object \n",
      " 3   Education             16400 non-null  object \n",
      " 4   Occupation            16400 non-null  object \n",
      " 5   Gender                16400 non-null  object \n",
      " 6   MaritalStatus         16400 non-null  object \n",
      " 7   HomeOwnerFlag         16400 non-null  object \n",
      " 8   NumberCarsOwned       16400 non-null  int64  \n",
      " 9   NumberChildrenAtHome  16400 non-null  int64  \n",
      " 10  TotalChildren         16400 non-null  int64  \n",
      " 11  YearlyIncome          16400 non-null  int64  \n",
      " 12  Age                   16400 non-null  int64  \n",
      " 13  AveMonthSpend         16400 non-null  float64\n",
      " 14  BikeBuyer             16400 non-null  int64  \n",
      "dtypes: float64(1), int64(6), object(8)\n",
      "memory usage: 2.0+ MB\n",
      "None\n"
     ]
    },
    {
     "data": {
      "text/html": [
       "<div>\n",
       "<style scoped>\n",
       "    .dataframe tbody tr th:only-of-type {\n",
       "        vertical-align: middle;\n",
       "    }\n",
       "\n",
       "    .dataframe tbody tr th {\n",
       "        vertical-align: top;\n",
       "    }\n",
       "\n",
       "    .dataframe thead th {\n",
       "        text-align: right;\n",
       "    }\n",
       "</style>\n",
       "<table border=\"1\" class=\"dataframe\">\n",
       "  <thead>\n",
       "    <tr style=\"text-align: right;\">\n",
       "      <th></th>\n",
       "      <th>City</th>\n",
       "      <th>StateProvinceName</th>\n",
       "      <th>CountryRegionName</th>\n",
       "      <th>Education</th>\n",
       "      <th>Occupation</th>\n",
       "      <th>Gender</th>\n",
       "      <th>MaritalStatus</th>\n",
       "      <th>HomeOwnerFlag</th>\n",
       "      <th>NumberCarsOwned</th>\n",
       "      <th>NumberChildrenAtHome</th>\n",
       "      <th>TotalChildren</th>\n",
       "      <th>YearlyIncome</th>\n",
       "      <th>Age</th>\n",
       "      <th>AveMonthSpend</th>\n",
       "      <th>BikeBuyer</th>\n",
       "    </tr>\n",
       "  </thead>\n",
       "  <tbody>\n",
       "    <tr>\n",
       "      <th>0</th>\n",
       "      <td>ballard</td>\n",
       "      <td>Washington</td>\n",
       "      <td>United States</td>\n",
       "      <td>High School</td>\n",
       "      <td>Skilled Manual</td>\n",
       "      <td>M</td>\n",
       "      <td>S</td>\n",
       "      <td>0</td>\n",
       "      <td>2</td>\n",
       "      <td>0</td>\n",
       "      <td>0</td>\n",
       "      <td>54938</td>\n",
       "      <td>19</td>\n",
       "      <td>64.0</td>\n",
       "      <td>0</td>\n",
       "    </tr>\n",
       "    <tr>\n",
       "      <th>1</th>\n",
       "      <td>ballard</td>\n",
       "      <td>Washington</td>\n",
       "      <td>United States</td>\n",
       "      <td>Partial College</td>\n",
       "      <td>Professional</td>\n",
       "      <td>M</td>\n",
       "      <td>M</td>\n",
       "      <td>1</td>\n",
       "      <td>2</td>\n",
       "      <td>2</td>\n",
       "      <td>4</td>\n",
       "      <td>97258</td>\n",
       "      <td>46</td>\n",
       "      <td>109.0</td>\n",
       "      <td>0</td>\n",
       "    </tr>\n",
       "    <tr>\n",
       "      <th>2</th>\n",
       "      <td>ballard</td>\n",
       "      <td>Washington</td>\n",
       "      <td>United States</td>\n",
       "      <td>Partial College</td>\n",
       "      <td>Professional</td>\n",
       "      <td>M</td>\n",
       "      <td>M</td>\n",
       "      <td>1</td>\n",
       "      <td>4</td>\n",
       "      <td>4</td>\n",
       "      <td>5</td>\n",
       "      <td>127971</td>\n",
       "      <td>38</td>\n",
       "      <td>145.0</td>\n",
       "      <td>1</td>\n",
       "    </tr>\n",
       "    <tr>\n",
       "      <th>3</th>\n",
       "      <td>ballard</td>\n",
       "      <td>Washington</td>\n",
       "      <td>United States</td>\n",
       "      <td>Graduate Degree</td>\n",
       "      <td>Skilled Manual</td>\n",
       "      <td>M</td>\n",
       "      <td>S</td>\n",
       "      <td>0</td>\n",
       "      <td>0</td>\n",
       "      <td>0</td>\n",
       "      <td>0</td>\n",
       "      <td>82668</td>\n",
       "      <td>25</td>\n",
       "      <td>72.0</td>\n",
       "      <td>0</td>\n",
       "    </tr>\n",
       "    <tr>\n",
       "      <th>4</th>\n",
       "      <td>ballard</td>\n",
       "      <td>Washington</td>\n",
       "      <td>United States</td>\n",
       "      <td>Bachelors</td>\n",
       "      <td>Skilled Manual</td>\n",
       "      <td>M</td>\n",
       "      <td>M</td>\n",
       "      <td>1</td>\n",
       "      <td>0</td>\n",
       "      <td>1</td>\n",
       "      <td>1</td>\n",
       "      <td>57574</td>\n",
       "      <td>26</td>\n",
       "      <td>86.0</td>\n",
       "      <td>0</td>\n",
       "    </tr>\n",
       "  </tbody>\n",
       "</table>\n",
       "</div>"
      ],
      "text/plain": [
       "      City StateProvinceName CountryRegionName        Education  \\\n",
       "0  ballard        Washington     United States      High School   \n",
       "1  ballard        Washington     United States  Partial College   \n",
       "2  ballard        Washington     United States  Partial College   \n",
       "3  ballard        Washington     United States  Graduate Degree   \n",
       "4  ballard        Washington     United States       Bachelors    \n",
       "\n",
       "       Occupation Gender MaritalStatus HomeOwnerFlag  NumberCarsOwned  \\\n",
       "0  Skilled Manual      M             S             0                2   \n",
       "1    Professional      M             M             1                2   \n",
       "2    Professional      M             M             1                4   \n",
       "3  Skilled Manual      M             S             0                0   \n",
       "4  Skilled Manual      M             M             1                0   \n",
       "\n",
       "   NumberChildrenAtHome  TotalChildren  YearlyIncome  Age  AveMonthSpend  \\\n",
       "0                     0              0         54938   19           64.0   \n",
       "1                     2              4         97258   46          109.0   \n",
       "2                     4              5        127971   38          145.0   \n",
       "3                     0              0         82668   25           72.0   \n",
       "4                     1              1         57574   26           86.0   \n",
       "\n",
       "   BikeBuyer  \n",
       "0          0  \n",
       "1          0  \n",
       "2          1  \n",
       "3          0  \n",
       "4          0  "
      ]
     },
     "execution_count": 16,
     "metadata": {},
     "output_type": "execute_result"
    }
   ],
   "source": [
    "import pandas as pd\n",
    "import numpy as np\n",
    "import seaborn as sns\n",
    "import matplotlib.pyplot as plt\n",
    "bike=pd.read_csv('Data/BikeMergeClean.csv',index_col=0)\n",
    "\n",
    "bike=bike.astype({'HomeOwnerFlag':'object'})\n",
    "print(bike.info())\n",
    "bike.head()"
   ]
  },
  {
   "cell_type": "code",
   "execution_count": 17,
   "metadata": {},
   "outputs": [
    {
     "data": {
      "text/plain": [
       "BikeBuyer               1.000000\n",
       "NumberChildrenAtHome    0.455995\n",
       "AveMonthSpend           0.421589\n",
       "YearlyIncome            0.286630\n",
       "TotalChildren           0.233553\n",
       "NumberCarsOwned         0.164849\n",
       "Age                     0.137370\n",
       "Name: BikeBuyer, dtype: float64"
      ]
     },
     "execution_count": 17,
     "metadata": {},
     "output_type": "execute_result"
    },
    {
     "data": {
      "image/png": "[encoded data removed]",
      "text/plain": [
       "<Figure size 432x288 with 2 Axes>"
      ]
     },
     "metadata": {
      "needs_background": "light"
     },
     "output_type": "display_data"
    }
   ],
   "source": [
    "bike_num=bike.select_dtypes(include=[np.number])\n",
    "sns.heatmap(bike_num.corr('pearson'),cmap=sns.diverging_palette(20, 220, n=200),vmax=1,center=0, vmin=-1)\n",
    "abs(bike_num.corr())['BikeBuyer'].sort_values(ascending=False)"
   ]
  },
  {
   "cell_type": "markdown",
   "metadata": {},
   "source": [
    "##### Some Pros of Naive Bayes (?):\n",
    "- X and Y are not highly correlated\n",
    "- Works on Both numerial data & Categorical Data (esepecially not many classes in each input variables)\n",
    "- Assume Numerical data are normally distributed\n",
    "- Perform well in both binary and multiple classification"
   ]
  },
  {
   "cell_type": "code",
   "execution_count": 13,
   "metadata": {},
   "outputs": [
    {
     "data": {
      "image/png": "[encoded data removed]",
      "text/plain": [
       "<Figure size 216x216 with 1 Axes>"
      ]
     },
     "metadata": {
      "needs_background": "light"
     },
     "output_type": "display_data"
    },
    {
     "data": {
      "image/png": "[encoded data removed]",
      "text/plain": [
       "<Figure size 216x216 with 1 Axes>"
      ]
     },
     "metadata": {
      "needs_background": "light"
     },
     "output_type": "display_data"
    },
    {
     "data": {
      "image/png": "[encoded data removed]",
      "text/plain": [
       "<Figure size 216x216 with 1 Axes>"
      ]
     },
     "metadata": {
      "needs_background": "light"
     },
     "output_type": "display_data"
    },
    {
     "data": {
      "image/png": "[encoded data removed]",
      "text/plain": [
       "<Figure size 216x216 with 1 Axes>"
      ]
     },
     "metadata": {
      "needs_background": "light"
     },
     "output_type": "display_data"
    },
    {
     "data": {
      "image/png": "[encoded data removed]",
      "text/plain": [
       "<Figure size 216x216 with 1 Axes>"
      ]
     },
     "metadata": {
      "needs_background": "light"
     },
     "output_type": "display_data"
    },
    {
     "data": {
      "image/png": "[encoded data removed]",
      "text/plain": [
       "<Figure size 216x216 with 1 Axes>"
      ]
     },
     "metadata": {
      "needs_background": "light"
     },
     "output_type": "display_data"
    },
    {
     "data": {
      "image/png": "[encoded data removed]",
      "text/plain": [
       "<Figure size 216x216 with 1 Axes>"
      ]
     },
     "metadata": {
      "needs_background": "light"
     },
     "output_type": "display_data"
    }
   ],
   "source": [
    "for col in bike_num.columns.values:\n",
    "    plt.figure(figsize=(3,3))\n",
    "    bike[col].hist(bins=len(bike_num[col].unique()))\n",
    "    plt.title(col)\n",
    "    plt.show()"
   ]
  },
  {
   "cell_type": "code",
   "execution_count": 5,
   "metadata": {},
   "outputs": [
    {
     "data": {
      "text/html": [
       "<div>\n",
       "<style scoped>\n",
       "    .dataframe tbody tr th:only-of-type {\n",
       "        vertical-align: middle;\n",
       "    }\n",
       "\n",
       "    .dataframe tbody tr th {\n",
       "        vertical-align: top;\n",
       "    }\n",
       "\n",
       "    .dataframe thead th {\n",
       "        text-align: right;\n",
       "    }\n",
       "</style>\n",
       "<table border=\"1\" class=\"dataframe\">\n",
       "  <thead>\n",
       "    <tr style=\"text-align: right;\">\n",
       "      <th></th>\n",
       "      <th>City</th>\n",
       "      <th>StateProvinceName</th>\n",
       "      <th>CountryRegionName</th>\n",
       "      <th>Education</th>\n",
       "      <th>Occupation</th>\n",
       "      <th>Gender</th>\n",
       "      <th>MaritalStatus</th>\n",
       "      <th>HomeOwnerFlag</th>\n",
       "    </tr>\n",
       "  </thead>\n",
       "  <tbody>\n",
       "    <tr>\n",
       "      <th>0</th>\n",
       "      <td>ballard</td>\n",
       "      <td>Washington</td>\n",
       "      <td>United States</td>\n",
       "      <td>High School</td>\n",
       "      <td>Skilled Manual</td>\n",
       "      <td>M</td>\n",
       "      <td>S</td>\n",
       "      <td>0</td>\n",
       "    </tr>\n",
       "    <tr>\n",
       "      <th>1</th>\n",
       "      <td>ballard</td>\n",
       "      <td>Washington</td>\n",
       "      <td>United States</td>\n",
       "      <td>Partial College</td>\n",
       "      <td>Professional</td>\n",
       "      <td>M</td>\n",
       "      <td>M</td>\n",
       "      <td>1</td>\n",
       "    </tr>\n",
       "    <tr>\n",
       "      <th>2</th>\n",
       "      <td>ballard</td>\n",
       "      <td>Washington</td>\n",
       "      <td>United States</td>\n",
       "      <td>Partial College</td>\n",
       "      <td>Professional</td>\n",
       "      <td>M</td>\n",
       "      <td>M</td>\n",
       "      <td>1</td>\n",
       "    </tr>\n",
       "    <tr>\n",
       "      <th>3</th>\n",
       "      <td>ballard</td>\n",
       "      <td>Washington</td>\n",
       "      <td>United States</td>\n",
       "      <td>Graduate Degree</td>\n",
       "      <td>Skilled Manual</td>\n",
       "      <td>M</td>\n",
       "      <td>S</td>\n",
       "      <td>0</td>\n",
       "    </tr>\n",
       "    <tr>\n",
       "      <th>4</th>\n",
       "      <td>ballard</td>\n",
       "      <td>Washington</td>\n",
       "      <td>United States</td>\n",
       "      <td>Bachelors</td>\n",
       "      <td>Skilled Manual</td>\n",
       "      <td>M</td>\n",
       "      <td>M</td>\n",
       "      <td>1</td>\n",
       "    </tr>\n",
       "  </tbody>\n",
       "</table>\n",
       "</div>"
      ],
      "text/plain": [
       "      City StateProvinceName CountryRegionName        Education  \\\n",
       "0  ballard        Washington     United States      High School   \n",
       "1  ballard        Washington     United States  Partial College   \n",
       "2  ballard        Washington     United States  Partial College   \n",
       "3  ballard        Washington     United States  Graduate Degree   \n",
       "4  ballard        Washington     United States       Bachelors    \n",
       "\n",
       "       Occupation Gender MaritalStatus HomeOwnerFlag  \n",
       "0  Skilled Manual      M             S             0  \n",
       "1    Professional      M             M             1  \n",
       "2    Professional      M             M             1  \n",
       "3  Skilled Manual      M             S             0  \n",
       "4  Skilled Manual      M             M             1  "
      ]
     },
     "execution_count": 5,
     "metadata": {},
     "output_type": "execute_result"
    }
   ],
   "source": [
    "bike_cate=bike.select_dtypes(include='object')\n",
    "bike_cate.head(5)"
   ]
  },
  {
   "cell_type": "code",
   "execution_count": 6,
   "metadata": {},
   "outputs": [
    {
     "name": "stdout",
     "output_type": "stream",
     "text": [
      "london         379\n",
      "paris          341\n",
      "beaverton      190\n",
      "burien         188\n",
      "chula vista    185\n",
      "              ... \n",
      "barstow          1\n",
      "charlotte        1\n",
      "baytown          1\n",
      "carrollton       1\n",
      "branch           1\n",
      "Name: City, Length: 267, dtype: int64\n",
      "California             3948\n",
      "Washington             2014\n",
      "England                1709\n",
      "British Columbia       1388\n",
      "New South Wales        1376\n",
      "Oregon                  934\n",
      "Victoria                801\n",
      "Queensland              713\n",
      "Saarland                388\n",
      "Nordrhein-Westfalen     362\n",
      "Seine (Paris)           341\n",
      "Hessen                  334\n",
      "Hamburg                 268\n",
      "Seine Saint Denis       255\n",
      "Nord                    247\n",
      "South Australia         212\n",
      "Bayern                  198\n",
      "Hauts de Seine          168\n",
      "Yveline                 149\n",
      "Essonne                 131\n",
      "Tasmania                 92\n",
      "Seine et Marne           52\n",
      "Loiret                   52\n",
      "Moselle                  49\n",
      "Val d'Oise               27\n",
      "Brandenburg              27\n",
      "Val de Marne             26\n",
      "Garonne (Haute)          25\n",
      "Somme                    20\n",
      "Charente-Maritime        19\n",
      "Loir et Cher             15\n",
      "Pas de Calais            15\n",
      "Alberta                  10\n",
      "Illinois                  6\n",
      "Texas                     4\n",
      "Ohio                      4\n",
      "Georgia                   3\n",
      "Florida                   2\n",
      "Utah                      2\n",
      "Arizona                   2\n",
      "New York                  2\n",
      "Minnesota                 1\n",
      "North Carolina            1\n",
      "Missouri                  1\n",
      "Kentucky                  1\n",
      "Massachusetts             1\n",
      "Alabama                   1\n",
      "South Carolina            1\n",
      "Wyoming                   1\n",
      "Virginia                  1\n",
      "Mississippi               1\n",
      "Name: StateProvinceName, dtype: int64\n",
      "United States     6931\n",
      "Australia         3194\n",
      "United Kingdom    1709\n",
      "France            1591\n",
      "Germany           1577\n",
      "Canada            1398\n",
      "Name: CountryRegionName, dtype: int64\n",
      "Bachelors              4758\n",
      "Partial College        4449\n",
      "High School            2942\n",
      "Graduate Degree        2851\n",
      "Partial High School    1400\n",
      "Name: Education, dtype: int64\n",
      "Professional      4920\n",
      "Skilled Manual    4036\n",
      "Management        2718\n",
      "Clerical          2597\n",
      "Manual            2129\n",
      "Name: Occupation, dtype: int64\n",
      "M    8287\n",
      "F    8113\n",
      "Name: Gender, dtype: int64\n",
      "M    8849\n",
      "S    7551\n",
      "Name: MaritalStatus, dtype: int64\n",
      "1    11055\n",
      "0     5345\n",
      "Name: HomeOwnerFlag, dtype: int64\n"
     ]
    }
   ],
   "source": [
    "for col in bike_cate.columns.values:\n",
    "    print(bike_cate[col].value_counts())"
   ]
  },
  {
   "cell_type": "markdown",
   "metadata": {},
   "source": [
    "### Check the Balance of Data"
   ]
  },
  {
   "cell_type": "code",
   "execution_count": 9,
   "metadata": {},
   "outputs": [
    {
     "data": {
      "text/plain": [
       "0    10949\n",
       "1     5451\n",
       "Name: BikeBuyer, dtype: int64"
      ]
     },
     "execution_count": 9,
     "metadata": {},
     "output_type": "execute_result"
    }
   ],
   "source": [
    "bike['BikeBuyer'].value_counts()"
   ]
  },
  {
   "cell_type": "code",
   "execution_count": 10,
   "metadata": {},
   "outputs": [
    {
     "data": {
      "text/plain": [
       "0    0.667622\n",
       "1    0.332378\n",
       "Name: BikeBuyer, dtype: float64"
      ]
     },
     "execution_count": 10,
     "metadata": {},
     "output_type": "execute_result"
    }
   ],
   "source": [
    "bike['BikeBuyer'].value_counts(normalize=True)"
   ]
  }
 ],
 "metadata": {
  "kernelspec": {
   "display_name": "Python 3",
   "language": "python",
   "name": "python3"
  },
  "language_info": {
   "codemirror_mode": {
    "name": "ipython",
    "version": 3
   },
   "file_extension": ".py",
   "mimetype": "text/x-python",
   "name": "python",
   "nbconvert_exporter": "python",
   "pygments_lexer": "ipython3",
   "version": "3.8.3"
  }
 },
 "nbformat": 4,
 "nbformat_minor": 4
}
